{
 "metadata": {
  "language_info": {
   "codemirror_mode": {
    "name": "ipython",
    "version": 3
   },
   "file_extension": ".py",
   "mimetype": "text/x-python",
   "name": "python",
   "nbconvert_exporter": "python",
   "pygments_lexer": "ipython3",
   "version": "3.6.7-final"
  },
  "orig_nbformat": 2,
  "kernelspec": {
   "name": "Python 3.6.7 64-bit",
   "display_name": "Python 3.6.7 64-bit",
   "metadata": {
    "interpreter": {
     "hash": "d7577895dfdc25809815f6f3b03b312a34240d78db19353ff4ccf012fecc5ed9"
    }
   }
  }
 },
 "nbformat": 4,
 "nbformat_minor": 2,
 "cells": [
  {
   "source": [
    "## O primeiro passo para responder as perguntas é combinar todas as tabelas fornecidas."
   ],
   "cell_type": "markdown",
   "metadata": {}
  },
  {
   "cell_type": "code",
   "execution_count": 146,
   "metadata": {},
   "outputs": [],
   "source": [
    "# Importando as bibliotecas necessárias\n",
    "import pandas as pd \n",
    "import numpy as np"
   ]
  },
  {
   "source": [
    "### Primeiramente, é necessário carregar os dados:"
   ],
   "cell_type": "markdown",
   "metadata": {}
  },
  {
   "cell_type": "code",
   "execution_count": 147,
   "metadata": {},
   "outputs": [],
   "source": [
    "base_lojas = pd.read_csv(\"./data/Base_Lojas.txt\", encoding=\"latin1\", sep=\";\", index_col=\"Código da Loja\", decimal=\",\")\n",
    "base_lojas_complementar = pd.read_csv(\"./data/Base_Lojas complementar.txt\", encoding=\"latin1\", sep=\";\", index_col=\"Código da Loja\", decimal=\",\")\n",
    "itens_clientes = pd.read_csv(\"./data/Itens e clientes por loja.txt\", encoding=\"latin1\", sep=\";\", index_col=\"Código da Loja\", decimal=\",\")\n",
    "rh_loja =  pd.read_csv(\"./data/RHLoja.txt\", encoding=\"latin1\", sep=\";\", index_col=\"Código da Loja\", decimal=\",\")"
   ]
  },
  {
   "source": [
    "### Podemos observar uma parte de cada uma das tabelas:"
   ],
   "cell_type": "markdown",
   "metadata": {}
  },
  {
   "cell_type": "code",
   "execution_count": 148,
   "metadata": {},
   "outputs": [
    {
     "output_type": "execute_result",
     "data": {
      "text/plain": [
       "                  Formato/ BU Estado\n",
       "Código da Loja                      \n",
       "47                 Super Loja     AL\n",
       "68                 Super Loja     AL\n",
       "2                  Super Loja     BA\n",
       "363             Loja do sabor     BA\n",
       "40                 Super Loja     BA"
      ],
      "text/html": "<div>\n<style scoped>\n    .dataframe tbody tr th:only-of-type {\n        vertical-align: middle;\n    }\n\n    .dataframe tbody tr th {\n        vertical-align: top;\n    }\n\n    .dataframe thead th {\n        text-align: right;\n    }\n</style>\n<table border=\"1\" class=\"dataframe\">\n  <thead>\n    <tr style=\"text-align: right;\">\n      <th></th>\n      <th>Formato/ BU</th>\n      <th>Estado</th>\n    </tr>\n    <tr>\n      <th>Código da Loja</th>\n      <th></th>\n      <th></th>\n    </tr>\n  </thead>\n  <tbody>\n    <tr>\n      <th>47</th>\n      <td>Super Loja</td>\n      <td>AL</td>\n    </tr>\n    <tr>\n      <th>68</th>\n      <td>Super Loja</td>\n      <td>AL</td>\n    </tr>\n    <tr>\n      <th>2</th>\n      <td>Super Loja</td>\n      <td>BA</td>\n    </tr>\n    <tr>\n      <th>363</th>\n      <td>Loja do sabor</td>\n      <td>BA</td>\n    </tr>\n    <tr>\n      <th>40</th>\n      <td>Super Loja</td>\n      <td>BA</td>\n    </tr>\n  </tbody>\n</table>\n</div>"
     },
     "metadata": {},
     "execution_count": 148
    }
   ],
   "source": [
    "base_lojas.head()"
   ]
  },
  {
   "cell_type": "code",
   "execution_count": 149,
   "metadata": {},
   "outputs": [
    {
     "output_type": "execute_result",
     "data": {
      "text/plain": [
       "               Área da Loja (Piso de Vendas, em Metros Quadrados)  \\\n",
       "Código da Loja                                                      \n",
       "691                                                            61   \n",
       "656                                                            66   \n",
       "516                                                            74   \n",
       "517                                                            75   \n",
       "623                                                            81   \n",
       "\n",
       "               Quantidade de SKUs da Loja Possui limpeza Terceirizada?  \n",
       "Código da Loja                                                          \n",
       "691                                5.572                           NÃO  \n",
       "656                                3.192                           NÃO  \n",
       "516                                3.111                           NÃO  \n",
       "517                                3.200                           NÃO  \n",
       "623                                3.194                           NÃO  "
      ],
      "text/html": "<div>\n<style scoped>\n    .dataframe tbody tr th:only-of-type {\n        vertical-align: middle;\n    }\n\n    .dataframe tbody tr th {\n        vertical-align: top;\n    }\n\n    .dataframe thead th {\n        text-align: right;\n    }\n</style>\n<table border=\"1\" class=\"dataframe\">\n  <thead>\n    <tr style=\"text-align: right;\">\n      <th></th>\n      <th>Área da Loja (Piso de Vendas, em Metros Quadrados)</th>\n      <th>Quantidade de SKUs da Loja</th>\n      <th>Possui limpeza Terceirizada?</th>\n    </tr>\n    <tr>\n      <th>Código da Loja</th>\n      <th></th>\n      <th></th>\n      <th></th>\n    </tr>\n  </thead>\n  <tbody>\n    <tr>\n      <th>691</th>\n      <td>61</td>\n      <td>5.572</td>\n      <td>NÃO</td>\n    </tr>\n    <tr>\n      <th>656</th>\n      <td>66</td>\n      <td>3.192</td>\n      <td>NÃO</td>\n    </tr>\n    <tr>\n      <th>516</th>\n      <td>74</td>\n      <td>3.111</td>\n      <td>NÃO</td>\n    </tr>\n    <tr>\n      <th>517</th>\n      <td>75</td>\n      <td>3.200</td>\n      <td>NÃO</td>\n    </tr>\n    <tr>\n      <th>623</th>\n      <td>81</td>\n      <td>3.194</td>\n      <td>NÃO</td>\n    </tr>\n  </tbody>\n</table>\n</div>"
     },
     "metadata": {},
     "execution_count": 149
    }
   ],
   "source": [
    "base_lojas_complementar.head()"
   ]
  },
  {
   "cell_type": "code",
   "execution_count": 150,
   "metadata": {},
   "outputs": [
    {
     "output_type": "execute_result",
     "data": {
      "text/plain": [
       "               Itens Vendidos Clientes atendidos\n",
       "Código da Loja                                  \n",
       "722                  148.594             30.593 \n",
       "723                  208.527             42.021 \n",
       "701                  230.222             86.470 \n",
       "756                  244.797             47.141 \n",
       "760                  267.100             67.828 "
      ],
      "text/html": "<div>\n<style scoped>\n    .dataframe tbody tr th:only-of-type {\n        vertical-align: middle;\n    }\n\n    .dataframe tbody tr th {\n        vertical-align: top;\n    }\n\n    .dataframe thead th {\n        text-align: right;\n    }\n</style>\n<table border=\"1\" class=\"dataframe\">\n  <thead>\n    <tr style=\"text-align: right;\">\n      <th></th>\n      <th>Itens Vendidos</th>\n      <th>Clientes atendidos</th>\n    </tr>\n    <tr>\n      <th>Código da Loja</th>\n      <th></th>\n      <th></th>\n    </tr>\n  </thead>\n  <tbody>\n    <tr>\n      <th>722</th>\n      <td>148.594</td>\n      <td>30.593</td>\n    </tr>\n    <tr>\n      <th>723</th>\n      <td>208.527</td>\n      <td>42.021</td>\n    </tr>\n    <tr>\n      <th>701</th>\n      <td>230.222</td>\n      <td>86.470</td>\n    </tr>\n    <tr>\n      <th>756</th>\n      <td>244.797</td>\n      <td>47.141</td>\n    </tr>\n    <tr>\n      <th>760</th>\n      <td>267.100</td>\n      <td>67.828</td>\n    </tr>\n  </tbody>\n</table>\n</div>"
     },
     "metadata": {},
     "execution_count": 150
    }
   ],
   "source": [
    "itens_clientes.head()"
   ]
  },
  {
   "cell_type": "code",
   "execution_count": 151,
   "metadata": {},
   "outputs": [
    {
     "output_type": "execute_result",
     "data": {
      "text/plain": [
       "                HC Ativo Total da Loja Horas Trabalhadas - Total da Loja  \\\n",
       "Código da Loja                                                             \n",
       "509                                  5                            1.064    \n",
       "500                                  5                            1.078    \n",
       "194                                 48                           10.293    \n",
       "160                                 42                            9.153    \n",
       "398                                 35                            7.672    \n",
       "\n",
       "               Taxa de Tunover   \n",
       "Código da Loja                   \n",
       "509                        2,1%  \n",
       "500                        2,8%  \n",
       "194                        2,9%  \n",
       "160                        3,1%  \n",
       "398                        3,6%  "
      ],
      "text/html": "<div>\n<style scoped>\n    .dataframe tbody tr th:only-of-type {\n        vertical-align: middle;\n    }\n\n    .dataframe tbody tr th {\n        vertical-align: top;\n    }\n\n    .dataframe thead th {\n        text-align: right;\n    }\n</style>\n<table border=\"1\" class=\"dataframe\">\n  <thead>\n    <tr style=\"text-align: right;\">\n      <th></th>\n      <th>HC Ativo Total da Loja</th>\n      <th>Horas Trabalhadas - Total da Loja</th>\n      <th>Taxa de Tunover</th>\n    </tr>\n    <tr>\n      <th>Código da Loja</th>\n      <th></th>\n      <th></th>\n      <th></th>\n    </tr>\n  </thead>\n  <tbody>\n    <tr>\n      <th>509</th>\n      <td>5</td>\n      <td>1.064</td>\n      <td>2,1%</td>\n    </tr>\n    <tr>\n      <th>500</th>\n      <td>5</td>\n      <td>1.078</td>\n      <td>2,8%</td>\n    </tr>\n    <tr>\n      <th>194</th>\n      <td>48</td>\n      <td>10.293</td>\n      <td>2,9%</td>\n    </tr>\n    <tr>\n      <th>160</th>\n      <td>42</td>\n      <td>9.153</td>\n      <td>3,1%</td>\n    </tr>\n    <tr>\n      <th>398</th>\n      <td>35</td>\n      <td>7.672</td>\n      <td>3,6%</td>\n    </tr>\n  </tbody>\n</table>\n</div>"
     },
     "metadata": {},
     "execution_count": 151
    }
   ],
   "source": [
    "rh_loja.head()"
   ]
  },
  {
   "source": [
    "### O primeiro ponto a ser destacado é que todas as tabelas se relacionam pela chave \"Código da Loja\". Sendo assim, podemos combiná-las a partir dessa chave."
   ],
   "cell_type": "markdown",
   "metadata": {}
  },
  {
   "cell_type": "code",
   "execution_count": 152,
   "metadata": {},
   "outputs": [],
   "source": [
    "df = base_lojas.join(base_lojas_complementar, on=\"Código da Loja\", how=\"outer\").join(rh_loja, on=\"Código da Loja\", how=\"outer\").join(itens_clientes, on=\"Código da Loja\", how=\"outer\")"
   ]
  },
  {
   "cell_type": "code",
   "execution_count": 153,
   "metadata": {},
   "outputs": [],
   "source": [
    "# É convenite ordenar a tabela pelo Código da Loja\n",
    "df = df.sort_values(by=\"Código da Loja\")"
   ]
  },
  {
   "cell_type": "code",
   "execution_count": 154,
   "metadata": {},
   "outputs": [
    {
     "output_type": "execute_result",
     "data": {
      "text/plain": [
       "                     Formato/ BU Estado  \\\n",
       "Código da Loja                            \n",
       "1                     Super Loja     MS   \n",
       "2                     Super Loja     BA   \n",
       "3                     Super Loja     PI   \n",
       "4                     Super Loja     MS   \n",
       "5                     Super Loja     SP   \n",
       "...                          ...    ...   \n",
       "756             Lojas da Familia     PE   \n",
       "757             Lojas da Familia     SP   \n",
       "759             Lojas da Familia     SP   \n",
       "760             Lojas da Familia     SP   \n",
       "761             Lojas da Familia     SP   \n",
       "\n",
       "               Área da Loja (Piso de Vendas, em Metros Quadrados)  \\\n",
       "Código da Loja                                                      \n",
       "1                                                           3.586   \n",
       "2                                                           4.496   \n",
       "3                                                           4.107   \n",
       "4                                                           3.523   \n",
       "5                                                           4.499   \n",
       "...                                                           ...   \n",
       "756                                                           140   \n",
       "757                                                           165   \n",
       "759                                                           220   \n",
       "760                                                           132   \n",
       "761                                                           167   \n",
       "\n",
       "               Quantidade de SKUs da Loja Possui limpeza Terceirizada?  \\\n",
       "Código da Loja                                                           \n",
       "1                                 26.904                           SIM   \n",
       "2                                 26.592                           SIM   \n",
       "3                                 28.476                           SIM   \n",
       "4                                 28.669                           SIM   \n",
       "5                                 32.325                           SIM   \n",
       "...                                   ...                          ...   \n",
       "756                                4.881                           NÃO   \n",
       "757                                4.954                           NÃO   \n",
       "759                                5.917                           NÃO   \n",
       "760                                4.935                           NÃO   \n",
       "761                                5.538                           NÃO   \n",
       "\n",
       "                HC Ativo Total da Loja Horas Trabalhadas - Total da Loja  \\\n",
       "Código da Loja                                                             \n",
       "1                                  101                           21.808    \n",
       "2                                  121                           25.690    \n",
       "3                                  178                           39.144    \n",
       "4                                  111                           23.790    \n",
       "5                                  247                           52.062    \n",
       "...                                ...                               ...   \n",
       "756                                  9                            1.890    \n",
       "757                                  9                            1.891    \n",
       "759                                 10                            2.287    \n",
       "760                                  7                            1.560    \n",
       "761                                  8                            1.788    \n",
       "\n",
       "               Taxa de Tunover  Itens Vendidos Clientes atendidos  \n",
       "Código da Loja                                                     \n",
       "1                         45,5%     5.662.916            585.950   \n",
       "2                         27,3%    10.006.477            837.415   \n",
       "3                         29,3%    13.158.512          1.092.452   \n",
       "4                         40,0%     6.281.119            755.513   \n",
       "5                         17,3%    20.743.582          2.008.825   \n",
       "...                         ...            ...                ...  \n",
       "756                        4,4%       244.797             47.141   \n",
       "757                       35,0%       392.557             71.126   \n",
       "759                       20,6%       439.120             80.604   \n",
       "760                       11,7%       267.100             67.828   \n",
       "761                       50,0%       362.533             66.502   \n",
       "\n",
       "[757 rows x 10 columns]"
      ],
      "text/html": "<div>\n<style scoped>\n    .dataframe tbody tr th:only-of-type {\n        vertical-align: middle;\n    }\n\n    .dataframe tbody tr th {\n        vertical-align: top;\n    }\n\n    .dataframe thead th {\n        text-align: right;\n    }\n</style>\n<table border=\"1\" class=\"dataframe\">\n  <thead>\n    <tr style=\"text-align: right;\">\n      <th></th>\n      <th>Formato/ BU</th>\n      <th>Estado</th>\n      <th>Área da Loja (Piso de Vendas, em Metros Quadrados)</th>\n      <th>Quantidade de SKUs da Loja</th>\n      <th>Possui limpeza Terceirizada?</th>\n      <th>HC Ativo Total da Loja</th>\n      <th>Horas Trabalhadas - Total da Loja</th>\n      <th>Taxa de Tunover</th>\n      <th>Itens Vendidos</th>\n      <th>Clientes atendidos</th>\n    </tr>\n    <tr>\n      <th>Código da Loja</th>\n      <th></th>\n      <th></th>\n      <th></th>\n      <th></th>\n      <th></th>\n      <th></th>\n      <th></th>\n      <th></th>\n      <th></th>\n      <th></th>\n    </tr>\n  </thead>\n  <tbody>\n    <tr>\n      <th>1</th>\n      <td>Super Loja</td>\n      <td>MS</td>\n      <td>3.586</td>\n      <td>26.904</td>\n      <td>SIM</td>\n      <td>101</td>\n      <td>21.808</td>\n      <td>45,5%</td>\n      <td>5.662.916</td>\n      <td>585.950</td>\n    </tr>\n    <tr>\n      <th>2</th>\n      <td>Super Loja</td>\n      <td>BA</td>\n      <td>4.496</td>\n      <td>26.592</td>\n      <td>SIM</td>\n      <td>121</td>\n      <td>25.690</td>\n      <td>27,3%</td>\n      <td>10.006.477</td>\n      <td>837.415</td>\n    </tr>\n    <tr>\n      <th>3</th>\n      <td>Super Loja</td>\n      <td>PI</td>\n      <td>4.107</td>\n      <td>28.476</td>\n      <td>SIM</td>\n      <td>178</td>\n      <td>39.144</td>\n      <td>29,3%</td>\n      <td>13.158.512</td>\n      <td>1.092.452</td>\n    </tr>\n    <tr>\n      <th>4</th>\n      <td>Super Loja</td>\n      <td>MS</td>\n      <td>3.523</td>\n      <td>28.669</td>\n      <td>SIM</td>\n      <td>111</td>\n      <td>23.790</td>\n      <td>40,0%</td>\n      <td>6.281.119</td>\n      <td>755.513</td>\n    </tr>\n    <tr>\n      <th>5</th>\n      <td>Super Loja</td>\n      <td>SP</td>\n      <td>4.499</td>\n      <td>32.325</td>\n      <td>SIM</td>\n      <td>247</td>\n      <td>52.062</td>\n      <td>17,3%</td>\n      <td>20.743.582</td>\n      <td>2.008.825</td>\n    </tr>\n    <tr>\n      <th>...</th>\n      <td>...</td>\n      <td>...</td>\n      <td>...</td>\n      <td>...</td>\n      <td>...</td>\n      <td>...</td>\n      <td>...</td>\n      <td>...</td>\n      <td>...</td>\n      <td>...</td>\n    </tr>\n    <tr>\n      <th>756</th>\n      <td>Lojas da Familia</td>\n      <td>PE</td>\n      <td>140</td>\n      <td>4.881</td>\n      <td>NÃO</td>\n      <td>9</td>\n      <td>1.890</td>\n      <td>4,4%</td>\n      <td>244.797</td>\n      <td>47.141</td>\n    </tr>\n    <tr>\n      <th>757</th>\n      <td>Lojas da Familia</td>\n      <td>SP</td>\n      <td>165</td>\n      <td>4.954</td>\n      <td>NÃO</td>\n      <td>9</td>\n      <td>1.891</td>\n      <td>35,0%</td>\n      <td>392.557</td>\n      <td>71.126</td>\n    </tr>\n    <tr>\n      <th>759</th>\n      <td>Lojas da Familia</td>\n      <td>SP</td>\n      <td>220</td>\n      <td>5.917</td>\n      <td>NÃO</td>\n      <td>10</td>\n      <td>2.287</td>\n      <td>20,6%</td>\n      <td>439.120</td>\n      <td>80.604</td>\n    </tr>\n    <tr>\n      <th>760</th>\n      <td>Lojas da Familia</td>\n      <td>SP</td>\n      <td>132</td>\n      <td>4.935</td>\n      <td>NÃO</td>\n      <td>7</td>\n      <td>1.560</td>\n      <td>11,7%</td>\n      <td>267.100</td>\n      <td>67.828</td>\n    </tr>\n    <tr>\n      <th>761</th>\n      <td>Lojas da Familia</td>\n      <td>SP</td>\n      <td>167</td>\n      <td>5.538</td>\n      <td>NÃO</td>\n      <td>8</td>\n      <td>1.788</td>\n      <td>50,0%</td>\n      <td>362.533</td>\n      <td>66.502</td>\n    </tr>\n  </tbody>\n</table>\n<p>757 rows × 10 columns</p>\n</div>"
     },
     "metadata": {},
     "execution_count": 154
    }
   ],
   "source": [
    "# Podemos ver como fica a tabela final:\n",
    "df"
   ]
  },
  {
   "cell_type": "code",
   "execution_count": 156,
   "metadata": {},
   "outputs": [],
   "source": [
    "df.to_csv(\"./data/dados_rd.txt\")"
   ]
  },
  {
   "source": [
    "### 1) a) Qual a loja mais produtiva da base disponibilizada?"
   ],
   "cell_type": "markdown",
   "metadata": {}
  },
  {
   "cell_type": "code",
   "execution_count": 131,
   "metadata": {},
   "outputs": [],
   "source": [
    "# É preciso converter o tipo:\n",
    "df[\"Itens Vendidos\"] = df[\"Itens Vendidos\"].str.replace('.', '')\n",
    "df[\"Itens Vendidos\"] = df[\"Itens Vendidos\"].astype('float')\n",
    "df[\"Horas Trabalhadas - Total da Loja\"] = df[\"Horas Trabalhadas - Total da Loja\"].str.replace('.', '')\n",
    "df[\"Horas Trabalhadas - Total da Loja\"] = df[\"Horas Trabalhadas - Total da Loja\"].astype('float')"
   ]
  },
  {
   "cell_type": "code",
   "execution_count": 133,
   "metadata": {},
   "outputs": [],
   "source": [
    "# Criando a coluna produtividade:\n",
    "df[\"produtividade\"] = df[\"Itens Vendidos\"]/df[\"Horas Trabalhadas - Total da Loja\"]"
   ]
  },
  {
   "cell_type": "code",
   "execution_count": 139,
   "metadata": {},
   "outputs": [
    {
     "output_type": "execute_result",
     "data": {
      "text/plain": [
       "                    Formato/ BU Estado  \\\n",
       "Código da Loja                           \n",
       "151             Lojas Esperança     SP   \n",
       "\n",
       "               Área da Loja (Piso de Vendas, em Metros Quadrados)  \\\n",
       "Código da Loja                                                      \n",
       "151                                                           943   \n",
       "\n",
       "               Quantidade de SKUs da Loja Possui limpeza Terceirizada?  \\\n",
       "Código da Loja                                                           \n",
       "151                                9.689                           NÃO   \n",
       "\n",
       "                HC Ativo Total da Loja  Horas Trabalhadas - Total da Loja  \\\n",
       "Código da Loja                                                              \n",
       "151                                 35                             7585.0   \n",
       "\n",
       "               Taxa de Tunover   Itens Vendidos Clientes atendidos  \\\n",
       "Código da Loja                                                       \n",
       "151                       12,3%       6424913.0           485.832    \n",
       "\n",
       "                produtividade  \n",
       "Código da Loja                 \n",
       "151                847.055109  "
      ],
      "text/html": "<div>\n<style scoped>\n    .dataframe tbody tr th:only-of-type {\n        vertical-align: middle;\n    }\n\n    .dataframe tbody tr th {\n        vertical-align: top;\n    }\n\n    .dataframe thead th {\n        text-align: right;\n    }\n</style>\n<table border=\"1\" class=\"dataframe\">\n  <thead>\n    <tr style=\"text-align: right;\">\n      <th></th>\n      <th>Formato/ BU</th>\n      <th>Estado</th>\n      <th>Área da Loja (Piso de Vendas, em Metros Quadrados)</th>\n      <th>Quantidade de SKUs da Loja</th>\n      <th>Possui limpeza Terceirizada?</th>\n      <th>HC Ativo Total da Loja</th>\n      <th>Horas Trabalhadas - Total da Loja</th>\n      <th>Taxa de Tunover</th>\n      <th>Itens Vendidos</th>\n      <th>Clientes atendidos</th>\n      <th>produtividade</th>\n    </tr>\n    <tr>\n      <th>Código da Loja</th>\n      <th></th>\n      <th></th>\n      <th></th>\n      <th></th>\n      <th></th>\n      <th></th>\n      <th></th>\n      <th></th>\n      <th></th>\n      <th></th>\n      <th></th>\n    </tr>\n  </thead>\n  <tbody>\n    <tr>\n      <th>151</th>\n      <td>Lojas Esperança</td>\n      <td>SP</td>\n      <td>943</td>\n      <td>9.689</td>\n      <td>NÃO</td>\n      <td>35</td>\n      <td>7585.0</td>\n      <td>12,3%</td>\n      <td>6424913.0</td>\n      <td>485.832</td>\n      <td>847.055109</td>\n    </tr>\n  </tbody>\n</table>\n</div>"
     },
     "metadata": {},
     "execution_count": 139
    }
   ],
   "source": [
    "# Buscando pela loja mais produtiva\n",
    "df.loc[df.produtividade == df.produtividade.max()]"
   ]
  },
  {
   "source": [
    "\n",
    "### Número da loja mais produtiva: 151"
   ],
   "cell_type": "markdown",
   "metadata": {}
  },
  {
   "source": [
    "1) b) Qual é a média de proditividade das lojas que possuem limpeza terceirizada?\n",
    "df.loc[df[]]"
   ],
   "cell_type": "markdown",
   "metadata": {}
  },
  {
   "cell_type": "code",
   "execution_count": 142,
   "metadata": {},
   "outputs": [
    {
     "output_type": "execute_result",
     "data": {
      "text/plain": [
       "413.9929708324899"
      ]
     },
     "metadata": {},
     "execution_count": 142
    }
   ],
   "source": [
    "df.loc[df[\"Possui limpeza Terceirizada?\"] == \"SIM\", \"produtividade\"].mean()"
   ]
  },
  {
   "source": [
    "1) c) Qual a média de horas trabalhadas das lojas \"Super Loja\"?"
   ],
   "cell_type": "markdown",
   "metadata": {}
  },
  {
   "source": [
    "df.loc[df[\"Formato/ BU\"] == \"Super Loja\", \"Horas Trabalhadas - Total da Loja\"].mean()"
   ],
   "cell_type": "code",
   "metadata": {},
   "execution_count": 144,
   "outputs": [
    {
     "output_type": "execute_result",
     "data": {
      "text/plain": [
       "26120.378151260506"
      ]
     },
     "metadata": {},
     "execution_count": 144
    }
   ]
  },
  {
   "source": [
    "Podemos exportar os dados calculados para resolver as demais questões no tableau:"
   ],
   "cell_type": "markdown",
   "metadata": {}
  },
  {
   "cell_type": "code",
   "execution_count": 145,
   "metadata": {},
   "outputs": [],
   "source": [
    "df.to_csv(\"./data/dados_teste_rd\")"
   ]
  },
  {
   "cell_type": "code",
   "execution_count": null,
   "metadata": {},
   "outputs": [],
   "source": []
  }
 ]
}